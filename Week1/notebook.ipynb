{
 "cells": [
  {
   "cell_type": "code",
   "execution_count": 39,
   "metadata": {},
   "outputs": [],
   "source": [
    "import pandas as pd\n",
    "from sklearn.feature_extraction import DictVectorizer\n",
    "from sklearn.linear_model import LinearRegression\n",
    "from sklearn.metrics import mean_squared_error"
   ]
  },
  {
   "cell_type": "code",
   "execution_count": 24,
   "metadata": {},
   "outputs": [
    {
     "name": "stdout",
     "output_type": "stream",
     "text": [
      "Number of records in dataset are: (1154112, 7)\n"
     ]
    }
   ],
   "source": [
    "#Q1\n",
    "df = pd.read_parquet('Week1/fhv_tripdata_2021-01.parquet')\n",
    "print(f\"Number of records in dataset are: {df.shape}\")\n",
    "#Answer: Number of records in dataset are: (1154112, 7)"
   ]
  },
  {
   "cell_type": "code",
   "execution_count": 25,
   "metadata": {},
   "outputs": [
    {
     "name": "stdout",
     "output_type": "stream",
     "text": [
      "(1154112, 8)\n",
      "The mean duration of the trips are: 19.17 minutes\n"
     ]
    }
   ],
   "source": [
    "#Q2\n",
    "df['duration'] = df.dropOff_datetime - df.pickup_datetime\n",
    "df.duration = df.duration.apply(lambda td: td.total_seconds() / 60)\n",
    "print(df.shape)\n",
    "\n",
    "print(f\"The mean duration of the trips are: {round(df['duration'].mean(), 2)} minutes\")\n",
    "#Answer: The mean duration of the trips are: 19.17 minutes"
   ]
  },
  {
   "cell_type": "code",
   "execution_count": 26,
   "metadata": {},
   "outputs": [
    {
     "name": "stdout",
     "output_type": "stream",
     "text": [
      "(1109826, 8)\n",
      "44.286 dropped values.\n"
     ]
    }
   ],
   "source": [
    "#Data prep\n",
    "df = df[(df.duration >= 1) & (df.duration <= 60)]\n",
    "print(df.shape)\n",
    "print(f\"{44.286} dropped values.\")"
   ]
  },
  {
   "cell_type": "code",
   "execution_count": 30,
   "metadata": {},
   "outputs": [
    {
     "name": "stdout",
     "output_type": "stream",
     "text": [
      "-1.0      83.527328\n",
      " 221.0     0.750568\n",
      " 206.0     0.612438\n",
      " 129.0     0.484671\n",
      " 115.0     0.367805\n",
      "            ...    \n",
      " 111.0     0.000451\n",
      " 27.0      0.000360\n",
      " 34.0      0.000270\n",
      " 2.0       0.000180\n",
      " 110.0     0.000090\n",
      "Name: PUlocationID, Length: 262, dtype: float64\n",
      "-1.0      13.327044\n",
      " 76.0      2.376499\n",
      " 217.0     1.755951\n",
      " 265.0     1.678461\n",
      " 17.0      1.659900\n",
      "            ...    \n",
      " 27.0      0.001622\n",
      " 30.0      0.001171\n",
      " 2.0       0.000991\n",
      " 105.0     0.000360\n",
      " 199.0     0.000090\n",
      "Name: DOlocationID, Length: 263, dtype: float64\n"
     ]
    }
   ],
   "source": [
    "#Q3\n",
    "df.PUlocationID.fillna(-1, inplace=True)\n",
    "df.DOlocationID.fillna(-1, inplace=True)\n",
    "print(df['PUlocationID'].value_counts(normalize=True) * 100)\n",
    "print(df['DOlocationID'].value_counts(normalize=True) * 100)\n",
    "#Answer = 83.5%"
   ]
  },
  {
   "cell_type": "code",
   "execution_count": 37,
   "metadata": {},
   "outputs": [
    {
     "name": "stdout",
     "output_type": "stream",
     "text": [
      "The dimensionality of the matrix are: 525\n"
     ]
    }
   ],
   "source": [
    "#Q4\n",
    "categorical = ['PUlocationID', 'DOlocationID']\n",
    "df[categorical] = df[categorical].astype(str)\n",
    "train_dicts = df[categorical].to_dict(orient='records')\n",
    "dv = DictVectorizer()\n",
    "X_train = dv.fit_transform(train_dicts)\n",
    "print(f\"The dimensionality of the matrix are: {X_train.shape[1]}\")"
   ]
  },
  {
   "cell_type": "code",
   "execution_count": 41,
   "metadata": {},
   "outputs": [
    {
     "name": "stdout",
     "output_type": "stream",
     "text": [
      "The RMSE found is 10.528519388409808 minutes.\n"
     ]
    }
   ],
   "source": [
    "#Q5\n",
    "target = 'duration'\n",
    "y_train = df[target].values\n",
    "lr = LinearRegression()\n",
    "lr.fit(X_train, y_train)\n",
    "\n",
    "y_pred = lr.predict(X_train)\n",
    "RMSE = mean_squared_error(y_train, y_pred, squared=False)\n",
    "print(f\"The RMSE found is {RMSE} minutes.\")\n",
    "#Answer: The RMSE found is 10.528519388409808 minutes."
   ]
  },
  {
   "cell_type": "code",
   "execution_count": 54,
   "metadata": {},
   "outputs": [
    {
     "name": "stdout",
     "output_type": "stream",
     "text": [
      "The RMSE found is 11.014287519486222 minutes.\n"
     ]
    }
   ],
   "source": [
    "#Q6\n",
    "df_val = pd.read_parquet('Week1/fhv_tripdata_2021-02.parquet')\n",
    "\n",
    "df_val['duration'] = df_val['dropOff_datetime'] - df_val['pickup_datetime']\n",
    "df_val.duration = df_val.duration.apply(lambda td: td.total_seconds() / 60)\n",
    "df_val = df_val[(df_val.duration >= 1) & (df_val.duration <= 60)]\n",
    "\n",
    "df_val.PUlocationID.fillna(-1, inplace=True)\n",
    "df_val.DOlocationID.fillna(-1, inplace=True)\n",
    "\n",
    "categorical = ['PUlocationID', 'DOlocationID']\n",
    "df_val[categorical] = df_val[categorical].astype(str)\n",
    "df[categorical] = df[categorical].astype(str)\n",
    "\n",
    "train_dicts = df[categorical].to_dict(orient='records')\n",
    "dicts_val = df_val[categorical].to_dict(orient='records')\n",
    "\n",
    "dv = DictVectorizer()\n",
    "X_train = dv.fit_transform(train_dicts)\n",
    "X_val = dv.transform(dicts_val)\n",
    "\n",
    "y_train = df[target].values\n",
    "y_val = df_val[target].values\n",
    "\n",
    "lr = LinearRegression()\n",
    "lr.fit(X_train, y_train)\n",
    "\n",
    "y_pred = lr.predict(X_val)\n",
    "RMSE_val = mean_squared_error(y_val, y_pred, squared=False)\n",
    "print(f\"The RMSE found is {RMSE_val} minutes.\")\n",
    "\n",
    "#Answer: The RMSE found is 11.014287519486222 minutes."
   ]
  }
 ],
 "metadata": {
  "interpreter": {
   "hash": "8f7c0ab71fa63d79807852f9608410ab52ef98871d18c7385cf552970bdd718b"
  },
  "kernelspec": {
   "display_name": "Python 3.10.4 64-bit",
   "language": "python",
   "name": "python3"
  },
  "language_info": {
   "codemirror_mode": {
    "name": "ipython",
    "version": 3
   },
   "file_extension": ".py",
   "mimetype": "text/x-python",
   "name": "python",
   "nbconvert_exporter": "python",
   "pygments_lexer": "ipython3",
   "version": "3.10.4"
  },
  "orig_nbformat": 4
 },
 "nbformat": 4,
 "nbformat_minor": 2
}
